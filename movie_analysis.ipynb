{
 "cells": [
  {
   "cell_type": "markdown",
   "id": "75807366",
   "metadata": {},
   "source": [
    "## Movie Analysis"
   ]
  },
  {
   "cell_type": "code",
   "execution_count": 4,
   "id": "28418edc",
   "metadata": {},
   "outputs": [
    {
     "data": {
      "text/html": [
       "<div>\n",
       "<style scoped>\n",
       "    .dataframe tbody tr th:only-of-type {\n",
       "        vertical-align: middle;\n",
       "    }\n",
       "\n",
       "    .dataframe tbody tr th {\n",
       "        vertical-align: top;\n",
       "    }\n",
       "\n",
       "    .dataframe thead th {\n",
       "        text-align: right;\n",
       "    }\n",
       "</style>\n",
       "<table border=\"1\" class=\"dataframe\">\n",
       "  <thead>\n",
       "    <tr style=\"text-align: right;\">\n",
       "      <th></th>\n",
       "      <th>Movie Title</th>\n",
       "      <th>Runtime</th>\n",
       "      <th>Genre</th>\n",
       "      <th>Award Wins</th>\n",
       "      <th>Award Nominations</th>\n",
       "      <th>Box Office</th>\n",
       "    </tr>\n",
       "  </thead>\n",
       "  <tbody>\n",
       "    <tr>\n",
       "      <th>0</th>\n",
       "      <td>Parasite</td>\n",
       "      <td>132</td>\n",
       "      <td>Comedy, Drama, Horror</td>\n",
       "      <td>308</td>\n",
       "      <td>271</td>\n",
       "      <td>53369749</td>\n",
       "    </tr>\n",
       "    <tr>\n",
       "      <th>1</th>\n",
       "      <td>Green Book</td>\n",
       "      <td>130</td>\n",
       "      <td>Biography, Comedy, Drama</td>\n",
       "      <td>59</td>\n",
       "      <td>124</td>\n",
       "      <td>85080171</td>\n",
       "    </tr>\n",
       "    <tr>\n",
       "      <th>2</th>\n",
       "      <td>The Shape of Water</td>\n",
       "      <td>123</td>\n",
       "      <td>Drama, Fantasy, Romance</td>\n",
       "      <td>138</td>\n",
       "      <td>358</td>\n",
       "      <td>63859435</td>\n",
       "    </tr>\n",
       "    <tr>\n",
       "      <th>3</th>\n",
       "      <td>Moonlight</td>\n",
       "      <td>111</td>\n",
       "      <td>Drama</td>\n",
       "      <td>228</td>\n",
       "      <td>296</td>\n",
       "      <td>27854932</td>\n",
       "    </tr>\n",
       "    <tr>\n",
       "      <th>4</th>\n",
       "      <td>Spotlight</td>\n",
       "      <td>129</td>\n",
       "      <td>Biography, Crime, Drama</td>\n",
       "      <td>124</td>\n",
       "      <td>143</td>\n",
       "      <td>45055776</td>\n",
       "    </tr>\n",
       "  </tbody>\n",
       "</table>\n",
       "</div>"
      ],
      "text/plain": [
       "          Movie Title  Runtime                     Genre  Award Wins  \\\n",
       "0            Parasite      132     Comedy, Drama, Horror         308   \n",
       "1          Green Book      130  Biography, Comedy, Drama          59   \n",
       "2  The Shape of Water      123   Drama, Fantasy, Romance         138   \n",
       "3           Moonlight      111                     Drama         228   \n",
       "4           Spotlight      129   Biography, Crime, Drama         124   \n",
       "\n",
       "   Award Nominations  Box Office  \n",
       "0                271    53369749  \n",
       "1                124    85080171  \n",
       "2                358    63859435  \n",
       "3                296    27854932  \n",
       "4                143    45055776  "
      ]
     },
     "execution_count": 4,
     "metadata": {},
     "output_type": "execute_result"
    }
   ],
   "source": [
    "import numpy as np\n",
    "import pandas as pd\n",
    "import matplotlib.pyplot as plt\n",
    "\n",
    "movies = pd.read_csv('movies.csv')\n",
    "movies.head()"
   ]
  },
  {
   "cell_type": "markdown",
   "id": "88b1fb85",
   "metadata": {},
   "source": [
    "### 1) What was the run-time for each movie?"
   ]
  },
  {
   "cell_type": "code",
   "execution_count": 33,
   "id": "835b493a",
   "metadata": {},
   "outputs": [
    {
     "data": {
      "image/png": "[encoded data removed]",
      "text/plain": [
       "<Figure size 1008x432 with 1 Axes>"
      ]
     },
     "metadata": {
      "needs_background": "light"
     },
     "output_type": "display_data"
    }
   ],
   "source": [
    "plt.figure(figsize=[14,6])\n",
    "plt.xticks(rotation=90)\n",
    "plt.bar(movies['Movie Title'], movies['Runtime'], width=0.7)\n",
    "\n",
    "plt.title('Movie Runtimes', fontsize=20)\n",
    "plt.xlabel('Movie Title', fontsize=15)\n",
    "plt.ylabel('Runtime(Minutes)', fontsize=15)\n",
    "\n",
    "plt.show()"
   ]
  },
  {
   "cell_type": "markdown",
   "id": "f99c01d8",
   "metadata": {},
   "source": [
    "###2) What was the movie with the longest run time?\n",
    "As seen in the graph above, the movie with the longest runtime was '12 Years a Slave'. "
   ]
  }
 ],
 "metadata": {
  "kernelspec": {
   "display_name": "Python 3 (ipykernel)",
   "language": "python",
   "name": "python3"
  },
  "language_info": {
   "codemirror_mode": {
    "name": "ipython",
    "version": 3
   },
   "file_extension": ".py",
   "mimetype": "text/x-python",
   "name": "python",
   "nbconvert_exporter": "python",
   "pygments_lexer": "ipython3",
   "version": "3.9.7"
  }
 },
 "nbformat": 4,
 "nbformat_minor": 5
}
